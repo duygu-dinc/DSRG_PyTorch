{
  "nbformat": 4,
  "nbformat_minor": 0,
  "metadata": {
    "colab": {
      "name": "Untitled0.ipynb",
      "provenance": [],
      "collapsed_sections": [],
      "include_colab_link": true
    },
    "kernelspec": {
      "name": "python3",
      "display_name": "Python 3"
    },
    "language_info": {
      "name": "python"
    },
    "accelerator": "GPU"
  },
  "cells": [
    {
      "cell_type": "markdown",
      "metadata": {
        "id": "view-in-github",
        "colab_type": "text"
      },
      "source": [
        "<a href=\"https://colab.research.google.com/github/duygu-dinc/DSRG_PyTorch/blob/main/Untitled0.ipynb\" target=\"_parent\"><img src=\"https://colab.research.google.com/assets/colab-badge.svg\" alt=\"Open In Colab\"/></a>"
      ]
    },
    {
      "cell_type": "code",
      "metadata": {
        "id": "OE5bfhgwXAkP"
      },
      "source": [
        "import matplotlib.pyplot as plt # For plotting\n",
        "import numpy as np              # NumPy, for working with arrays/tensors \n",
        "import os                       # Built-in library for filesystem access etc.\n",
        "import pickle                   # For (re)storing Python objects into (from) files \n",
        "import time                     # For measuring time\n",
        "import tarfile \n",
        "\n",
        "%matplotlib inline\n",
        "plt.rcParams['figure.figsize'] = [12, 8]\n",
        "plt.rcParams['figure.dpi'] = 100 # 200 e.g. is really fine, but slower"
      ],
      "execution_count": 1,
      "outputs": []
    },
    {
      "cell_type": "code",
      "metadata": {
        "id": "H0dl7YA5H-uw"
      },
      "source": [
        ""
      ],
      "execution_count": 1,
      "outputs": []
    },
    {
      "cell_type": "markdown",
      "metadata": {
        "id": "Xkwo1IV_XXeJ"
      },
      "source": [
        "** SBD DATASET**\n",
        "Downloading Semantic Boundaries Dataset and Benchmark from http://home.bharathh.info/pubs/codes/SBD/download.html"
      ]
    },
    {
      "cell_type": "code",
      "metadata": {
        "colab": {
          "base_uri": "https://localhost:8080/",
          "height": 35
        },
        "id": "pqjZPIDoYzMn",
        "outputId": "ab41700b-ae32-4aa1-b851-21a32e7c0ead"
      },
      "source": [
        "# Download the file\n",
        "\"\"\"! wget http://www.eecs.berkeley.edu/Research/Projects/CS/vision/grouping/semantic_contours/benchmark.tgz\"\"\""
      ],
      "execution_count": 2,
      "outputs": [
        {
          "output_type": "execute_result",
          "data": {
            "application/vnd.google.colaboratory.intrinsic+json": {
              "type": "string"
            },
            "text/plain": [
              "'! wget http://www.eecs.berkeley.edu/Research/Projects/CS/vision/grouping/semantic_contours/benchmark.tgz'"
            ]
          },
          "metadata": {
            "tags": []
          },
          "execution_count": 2
        }
      ]
    },
    {
      "cell_type": "markdown",
      "metadata": {
        "id": "SUZxibLdZfqP"
      },
      "source": [
        "** PASCAL VOC DATASET**\n",
        "Downloading PASCAL VOC 2012   Dataset from https://deepai.org/dataset/pascal-voc"
      ]
    },
    {
      "cell_type": "code",
      "metadata": {
        "id": "HXuQdHIKZynA",
        "colab": {
          "base_uri": "https://localhost:8080/"
        },
        "outputId": "1a552551-5b98-4a33-cdff-ae5affd72bc1"
      },
      "source": [
        "#Download the file \n",
        "!wget https://data.deepai.org/PascalVOC2012.zip"
      ],
      "execution_count": 3,
      "outputs": [
        {
          "output_type": "stream",
          "text": [
            "--2021-06-06 13:22:16--  https://data.deepai.org/PascalVOC2012.zip\n",
            "Resolving data.deepai.org (data.deepai.org)... 138.201.36.183\n",
            "Connecting to data.deepai.org (data.deepai.org)|138.201.36.183|:443... connected.\n",
            "HTTP request sent, awaiting response... 200 OK\n",
            "Length: 3899239928 (3.6G) [application/x-zip-compressed]\n",
            "Saving to: ‘PascalVOC2012.zip’\n",
            "\n",
            "PascalVOC2012.zip   100%[===================>]   3.63G  26.5MB/s    in 2m 23s  \n",
            "\n",
            "2021-06-06 13:24:39 (26.1 MB/s) - ‘PascalVOC2012.zip’ saved [3899239928/3899239928]\n",
            "\n"
          ],
          "name": "stdout"
        }
      ]
    },
    {
      "cell_type": "code",
      "metadata": {
        "id": "O99njotaGbcq"
      },
      "source": [
        "!unzip --qq PascalVOC2012.zip"
      ],
      "execution_count": 4,
      "outputs": []
    },
    {
      "cell_type": "code",
      "metadata": {
        "colab": {
          "base_uri": "https://localhost:8080/"
        },
        "id": "WBj_Rr8_QCDK",
        "outputId": "b4f21189-372b-477a-9048-25bf23d11ba7"
      },
      "source": [
        "!git clone https://github.com/duygu-dinc/DSRG_PyTorch.git"
      ],
      "execution_count": 5,
      "outputs": [
        {
          "output_type": "stream",
          "text": [
            "Cloning into 'DSRG_PyTorch'...\n",
            "remote: Enumerating objects: 191, done.\u001b[K\n",
            "remote: Counting objects: 100% (82/82), done.\u001b[K\n",
            "remote: Compressing objects: 100% (82/82), done.\u001b[K\n",
            "remote: Total 191 (delta 48), reused 0 (delta 0), pack-reused 109\u001b[K\n",
            "Receiving objects: 100% (191/191), 4.99 MiB | 20.61 MiB/s, done.\n",
            "Resolving deltas: 100% (71/71), done.\n"
          ],
          "name": "stdout"
        }
      ]
    },
    {
      "cell_type": "code",
      "metadata": {
        "colab": {
          "base_uri": "https://localhost:8080/"
        },
        "id": "WTD4TcjdSNrZ",
        "outputId": "9a6389e8-394e-40bf-e994-ec89e089d3cc"
      },
      "source": [
        "!wget https://download.pytorch.org/models/vgg16-397923af.pth"
      ],
      "execution_count": 6,
      "outputs": [
        {
          "output_type": "stream",
          "text": [
            "--2021-06-06 13:26:00--  https://download.pytorch.org/models/vgg16-397923af.pth\n",
            "Resolving download.pytorch.org (download.pytorch.org)... 52.85.79.49, 52.85.79.23, 52.85.79.74, ...\n",
            "Connecting to download.pytorch.org (download.pytorch.org)|52.85.79.49|:443... connected.\n",
            "HTTP request sent, awaiting response... 200 OK\n",
            "Length: 553433881 (528M) [binary/octet-stream]\n",
            "Saving to: ‘vgg16-397923af.pth’\n",
            "\n",
            "vgg16-397923af.pth  100%[===================>] 527.79M  37.4MB/s    in 6.9s    \n",
            "\n",
            "2021-06-06 13:26:07 (76.4 MB/s) - ‘vgg16-397923af.pth’ saved [553433881/553433881]\n",
            "\n"
          ],
          "name": "stdout"
        }
      ]
    },
    {
      "cell_type": "code",
      "metadata": {
        "id": "v5PH2Gt3UtbH"
      },
      "source": [
        "!gzip -kd DSRG_PyTorch/datalist/PascalVOC/localization_cues.pickle.gz"
      ],
      "execution_count": 7,
      "outputs": []
    },
    {
      "cell_type": "code",
      "metadata": {
        "colab": {
          "base_uri": "https://localhost:8080/"
        },
        "id": "W56-JatpVuZ7",
        "outputId": "6a828424-def4-49ad-eda7-2774af839a65"
      },
      "source": [
        "!apt-get install libeigen3-dev\n",
        "\n",
        "!pip install DSRG_PyTorch/CRF/"
      ],
      "execution_count": 8,
      "outputs": [
        {
          "output_type": "stream",
          "text": [
            "Reading package lists... Done\n",
            "Building dependency tree       \n",
            "Reading state information... Done\n",
            "Suggested packages:\n",
            "  libeigen3-doc libmrpt-dev\n",
            "The following NEW packages will be installed:\n",
            "  libeigen3-dev\n",
            "0 upgraded, 1 newly installed, 0 to remove and 39 not upgraded.\n",
            "Need to get 810 kB of archives.\n",
            "After this operation, 7,128 kB of additional disk space will be used.\n",
            "Get:1 http://archive.ubuntu.com/ubuntu bionic/universe amd64 libeigen3-dev all 3.3.4-4 [810 kB]\n",
            "Fetched 810 kB in 1s (975 kB/s)\n",
            "Selecting previously unselected package libeigen3-dev.\n",
            "(Reading database ... 160772 files and directories currently installed.)\n",
            "Preparing to unpack .../libeigen3-dev_3.3.4-4_all.deb ...\n",
            "Unpacking libeigen3-dev (3.3.4-4) ...\n",
            "Setting up libeigen3-dev (3.3.4-4) ...\n",
            "Processing ./DSRG_PyTorch/CRF\n",
            "Building wheels for collected packages: CRF\n",
            "  Building wheel for CRF (setup.py) ... \u001b[?25l\u001b[?25hdone\n",
            "  Created wheel for CRF: filename=CRF-1.0-cp37-cp37m-linux_x86_64.whl size=1937088 sha256=7c3267c47e27df3fe91bbcae610ec2bb359cef096b6e2d0700032f64ce7771c7\n",
            "  Stored in directory: /tmp/pip-ephem-wheel-cache-f1sq3ut8/wheels/ea/52/e1/1bf9277f592ec646c3e1b9b10ab2d6882b3400df7be2c6b0d6\n",
            "Successfully built CRF\n",
            "Installing collected packages: CRF\n",
            "Successfully installed CRF-1.0\n"
          ],
          "name": "stdout"
        }
      ]
    },
    {
      "cell_type": "code",
      "metadata": {
        "colab": {
          "base_uri": "https://localhost:8080/"
        },
        "id": "bv5NpM7URV6u",
        "outputId": "d50e9e48-5a80-4b43-dafc-b559e50de759"
      },
      "source": [
        "!bash DSRG_PyTorch/test_multiprocess.sh"
      ],
      "execution_count": 9,
      "outputs": [
        {
          "output_type": "stream",
          "text": [
            "python3: can't open file 'test_multiprocess.py': [Errno 2] No such file or directory\n"
          ],
          "name": "stdout"
        }
      ]
    }
  ]
}